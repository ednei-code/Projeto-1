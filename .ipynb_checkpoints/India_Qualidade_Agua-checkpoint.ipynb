{
 "cells": [
  {
   "cell_type": "markdown",
   "metadata": {},
   "source": [
    "# Ednei Cunha Vicente"
   ]
  },
  {
   "cell_type": "markdown",
   "metadata": {},
   "source": [
    "Dicionario de Dados\n",
    "\n",
    "State Name = Nome do Estado\n",
    "\n",
    "District Name = Nome do Distrito\n",
    "\n",
    "Block Name = Nome do Bloco\n",
    "\n",
    "Panchayat Name = Nome Panchayat\n",
    "\n",
    "Village Name = Nome da Aldeia\n",
    "\n",
    "Habitation Name = Nome da Habitacao\n",
    "\n",
    "Quality Parameter = Parametro de Qualidade\n",
    "\n",
    "Year = Ano\n"
   ]
  },
  {
   "cell_type": "markdown",
   "metadata": {},
   "source": [
    "https://www.kaggle.com/venkatramakrishnan/india-water-quality-data/kernels"
   ]
  },
  {
   "cell_type": "code",
   "execution_count": 41,
   "metadata": {},
   "outputs": [],
   "source": [
    "import pandas as pd\n",
    "import numpy as np\n",
    "import seaborn as sns\n",
    "import matplotlib.pyplot as plt\n",
    "%matplotlib inline"
   ]
  },
  {
   "cell_type": "code",
   "execution_count": 42,
   "metadata": {},
   "outputs": [],
   "source": [
    "# Imports para formatação dos gráficos\n",
    "import matplotlib as m\n",
    "plt.style.use('fivethirtyeight')\n",
    "m.rcParams['axes.labelsize'] = 14\n",
    "m.rcParams['xtick.labelsize'] = 12\n",
    "m.rcParams['ytick.labelsize'] = 12\n",
    "m.rcParams['text.color'] = 'k'\n",
    "from pylab import rcParams\n",
    "rcParams['figure.figsize'] = 18, 8"
   ]
  },
  {
   "cell_type": "code",
   "execution_count": 43,
   "metadata": {},
   "outputs": [],
   "source": [
    "data = pd.read_csv('india_qualidade_agua.csv', encoding = 'latin-1')"
   ]
  },
  {
   "cell_type": "code",
   "execution_count": 44,
   "metadata": {},
   "outputs": [
    {
     "data": {
      "text/html": [
       "<div>\n",
       "<style scoped>\n",
       "    .dataframe tbody tr th:only-of-type {\n",
       "        vertical-align: middle;\n",
       "    }\n",
       "\n",
       "    .dataframe tbody tr th {\n",
       "        vertical-align: top;\n",
       "    }\n",
       "\n",
       "    .dataframe thead th {\n",
       "        text-align: right;\n",
       "    }\n",
       "</style>\n",
       "<table border=\"1\" class=\"dataframe\">\n",
       "  <thead>\n",
       "    <tr style=\"text-align: right;\">\n",
       "      <th></th>\n",
       "      <th>State Name</th>\n",
       "      <th>District Name</th>\n",
       "      <th>Block Name</th>\n",
       "      <th>Panchayat Name</th>\n",
       "      <th>Village Name</th>\n",
       "      <th>Habitation Name</th>\n",
       "      <th>Quality Parameter</th>\n",
       "      <th>Year</th>\n",
       "    </tr>\n",
       "  </thead>\n",
       "  <tbody>\n",
       "    <tr>\n",
       "      <th>0</th>\n",
       "      <td>ANDHRA PRADESH</td>\n",
       "      <td>EAST GODAVARI(04)</td>\n",
       "      <td>PRATHIPADU(10)</td>\n",
       "      <td>GOKAVARAM(04)</td>\n",
       "      <td>VANTHADA(014 )</td>\n",
       "      <td>VANTHADA(0404410014010400)</td>\n",
       "      <td>Salinity</td>\n",
       "      <td>1/4/2009</td>\n",
       "    </tr>\n",
       "    <tr>\n",
       "      <th>1</th>\n",
       "      <td>ANDHRA PRADESH</td>\n",
       "      <td>EAST GODAVARI(04)</td>\n",
       "      <td>PRATHIPADU(10)</td>\n",
       "      <td>GOKAVARAM(04)</td>\n",
       "      <td>PANDAVULAPALEM(022 )</td>\n",
       "      <td>PANDAVULAPALEM(0404410022010400)</td>\n",
       "      <td>Fluoride</td>\n",
       "      <td>1/4/2009</td>\n",
       "    </tr>\n",
       "    <tr>\n",
       "      <th>2</th>\n",
       "      <td>ANDHRA PRADESH</td>\n",
       "      <td>EAST GODAVARI(04)</td>\n",
       "      <td>PRATHIPADU(10)</td>\n",
       "      <td>GAJJANAPUDI(06)</td>\n",
       "      <td>G. KOTHURU(023 )</td>\n",
       "      <td>G. KOTHURU(0404410023010600)</td>\n",
       "      <td>Salinity</td>\n",
       "      <td>1/4/2009</td>\n",
       "    </tr>\n",
       "    <tr>\n",
       "      <th>3</th>\n",
       "      <td>ANDHRA PRADESH</td>\n",
       "      <td>EAST GODAVARI(04)</td>\n",
       "      <td>PRATHIPADU(10)</td>\n",
       "      <td>GAJJANAPUDI(06)</td>\n",
       "      <td>GAJJANAPUDI(029 )</td>\n",
       "      <td>GAJJANAPUDI(0404410029010600)</td>\n",
       "      <td>Salinity</td>\n",
       "      <td>1/4/2009</td>\n",
       "    </tr>\n",
       "    <tr>\n",
       "      <th>4</th>\n",
       "      <td>ANDHRA PRADESH</td>\n",
       "      <td>EAST GODAVARI(04)</td>\n",
       "      <td>PRATHIPADU(10)</td>\n",
       "      <td>CHINTALURU(10)</td>\n",
       "      <td>CHINTALURU(028 )</td>\n",
       "      <td>CHINTALURU(0404410028011000)</td>\n",
       "      <td>Salinity</td>\n",
       "      <td>1/4/2009</td>\n",
       "    </tr>\n",
       "  </tbody>\n",
       "</table>\n",
       "</div>"
      ],
      "text/plain": [
       "       State Name      District Name      Block Name   Panchayat Name  \\\n",
       "0  ANDHRA PRADESH  EAST GODAVARI(04)  PRATHIPADU(10)    GOKAVARAM(04)   \n",
       "1  ANDHRA PRADESH  EAST GODAVARI(04)  PRATHIPADU(10)    GOKAVARAM(04)   \n",
       "2  ANDHRA PRADESH  EAST GODAVARI(04)  PRATHIPADU(10)  GAJJANAPUDI(06)   \n",
       "3  ANDHRA PRADESH  EAST GODAVARI(04)  PRATHIPADU(10)  GAJJANAPUDI(06)   \n",
       "4  ANDHRA PRADESH  EAST GODAVARI(04)  PRATHIPADU(10)   CHINTALURU(10)   \n",
       "\n",
       "           Village Name                   Habitation Name Quality Parameter  \\\n",
       "0        VANTHADA(014 )        VANTHADA(0404410014010400)          Salinity   \n",
       "1  PANDAVULAPALEM(022 )  PANDAVULAPALEM(0404410022010400)          Fluoride   \n",
       "2      G. KOTHURU(023 )      G. KOTHURU(0404410023010600)          Salinity   \n",
       "3     GAJJANAPUDI(029 )     GAJJANAPUDI(0404410029010600)          Salinity   \n",
       "4      CHINTALURU(028 )      CHINTALURU(0404410028011000)          Salinity   \n",
       "\n",
       "       Year  \n",
       "0  1/4/2009  \n",
       "1  1/4/2009  \n",
       "2  1/4/2009  \n",
       "3  1/4/2009  \n",
       "4  1/4/2009  "
      ]
     },
     "execution_count": 44,
     "metadata": {},
     "output_type": "execute_result"
    }
   ],
   "source": [
    "data.head()"
   ]
  },
  {
   "cell_type": "code",
   "execution_count": 45,
   "metadata": {},
   "outputs": [
    {
     "data": {
      "text/plain": [
       "(550242, 8)"
      ]
     },
     "execution_count": 45,
     "metadata": {},
     "output_type": "execute_result"
    }
   ],
   "source": [
    "data.shape"
   ]
  },
  {
   "cell_type": "code",
   "execution_count": 46,
   "metadata": {},
   "outputs": [
    {
     "name": "stdout",
     "output_type": "stream",
     "text": [
      "<class 'pandas.core.frame.DataFrame'>\n",
      "RangeIndex: 550242 entries, 0 to 550241\n",
      "Data columns (total 8 columns):\n",
      "State Name           550242 non-null object\n",
      "District Name        550242 non-null object\n",
      "Block Name           550242 non-null object\n",
      "Panchayat Name       550242 non-null object\n",
      "Village Name         550242 non-null object\n",
      "Habitation Name      550242 non-null object\n",
      "Quality Parameter    550242 non-null object\n",
      "Year                 550242 non-null object\n",
      "dtypes: object(8)\n",
      "memory usage: 33.6+ MB\n"
     ]
    }
   ],
   "source": [
    "data.info()"
   ]
  },
  {
   "cell_type": "code",
   "execution_count": 47,
   "metadata": {},
   "outputs": [
    {
     "data": {
      "text/plain": [
       "False"
      ]
     },
     "execution_count": 47,
     "metadata": {},
     "output_type": "execute_result"
    }
   ],
   "source": [
    "#chacando se ha valores missing\n",
    "data.isnull().values.any()"
   ]
  },
  {
   "cell_type": "code",
   "execution_count": 48,
   "metadata": {},
   "outputs": [
    {
     "data": {
      "text/plain": [
       "State Name               27\n",
       "District Name           493\n",
       "Block Name             3577\n",
       "Panchayat Name        37471\n",
       "Village Name          81703\n",
       "Habitation Name      147566\n",
       "Quality Parameter         5\n",
       "Year                      4\n",
       "dtype: int64"
      ]
     },
     "execution_count": 48,
     "metadata": {},
     "output_type": "execute_result"
    }
   ],
   "source": [
    "#verificnado valores unicos\n",
    "data.nunique()"
   ]
  },
  {
   "cell_type": "code",
   "execution_count": 49,
   "metadata": {},
   "outputs": [],
   "source": [
    "#ajustando o nome das colunas para que fiquem com letras minusculas\n",
    "data.columns = map(str.lower , data.columns)\n"
   ]
  },
  {
   "cell_type": "code",
   "execution_count": 50,
   "metadata": {},
   "outputs": [
    {
     "data": {
      "text/html": [
       "<div>\n",
       "<style scoped>\n",
       "    .dataframe tbody tr th:only-of-type {\n",
       "        vertical-align: middle;\n",
       "    }\n",
       "\n",
       "    .dataframe tbody tr th {\n",
       "        vertical-align: top;\n",
       "    }\n",
       "\n",
       "    .dataframe thead th {\n",
       "        text-align: right;\n",
       "    }\n",
       "</style>\n",
       "<table border=\"1\" class=\"dataframe\">\n",
       "  <thead>\n",
       "    <tr style=\"text-align: right;\">\n",
       "      <th></th>\n",
       "      <th>state_name</th>\n",
       "      <th>district_name</th>\n",
       "      <th>block_name</th>\n",
       "      <th>panchayat_name</th>\n",
       "      <th>village_name</th>\n",
       "      <th>habitation_name</th>\n",
       "      <th>quality_parameter</th>\n",
       "      <th>year</th>\n",
       "    </tr>\n",
       "  </thead>\n",
       "  <tbody>\n",
       "    <tr>\n",
       "      <th>0</th>\n",
       "      <td>ANDHRA PRADESH</td>\n",
       "      <td>EAST GODAVARI(04)</td>\n",
       "      <td>PRATHIPADU(10)</td>\n",
       "      <td>GOKAVARAM(04)</td>\n",
       "      <td>VANTHADA(014 )</td>\n",
       "      <td>VANTHADA(0404410014010400)</td>\n",
       "      <td>Salinity</td>\n",
       "      <td>1/4/2009</td>\n",
       "    </tr>\n",
       "    <tr>\n",
       "      <th>1</th>\n",
       "      <td>ANDHRA PRADESH</td>\n",
       "      <td>EAST GODAVARI(04)</td>\n",
       "      <td>PRATHIPADU(10)</td>\n",
       "      <td>GOKAVARAM(04)</td>\n",
       "      <td>PANDAVULAPALEM(022 )</td>\n",
       "      <td>PANDAVULAPALEM(0404410022010400)</td>\n",
       "      <td>Fluoride</td>\n",
       "      <td>1/4/2009</td>\n",
       "    </tr>\n",
       "    <tr>\n",
       "      <th>2</th>\n",
       "      <td>ANDHRA PRADESH</td>\n",
       "      <td>EAST GODAVARI(04)</td>\n",
       "      <td>PRATHIPADU(10)</td>\n",
       "      <td>GAJJANAPUDI(06)</td>\n",
       "      <td>G. KOTHURU(023 )</td>\n",
       "      <td>G. KOTHURU(0404410023010600)</td>\n",
       "      <td>Salinity</td>\n",
       "      <td>1/4/2009</td>\n",
       "    </tr>\n",
       "    <tr>\n",
       "      <th>3</th>\n",
       "      <td>ANDHRA PRADESH</td>\n",
       "      <td>EAST GODAVARI(04)</td>\n",
       "      <td>PRATHIPADU(10)</td>\n",
       "      <td>GAJJANAPUDI(06)</td>\n",
       "      <td>GAJJANAPUDI(029 )</td>\n",
       "      <td>GAJJANAPUDI(0404410029010600)</td>\n",
       "      <td>Salinity</td>\n",
       "      <td>1/4/2009</td>\n",
       "    </tr>\n",
       "    <tr>\n",
       "      <th>4</th>\n",
       "      <td>ANDHRA PRADESH</td>\n",
       "      <td>EAST GODAVARI(04)</td>\n",
       "      <td>PRATHIPADU(10)</td>\n",
       "      <td>CHINTALURU(10)</td>\n",
       "      <td>CHINTALURU(028 )</td>\n",
       "      <td>CHINTALURU(0404410028011000)</td>\n",
       "      <td>Salinity</td>\n",
       "      <td>1/4/2009</td>\n",
       "    </tr>\n",
       "  </tbody>\n",
       "</table>\n",
       "</div>"
      ],
      "text/plain": [
       "       state_name      district_name      block_name   panchayat_name  \\\n",
       "0  ANDHRA PRADESH  EAST GODAVARI(04)  PRATHIPADU(10)    GOKAVARAM(04)   \n",
       "1  ANDHRA PRADESH  EAST GODAVARI(04)  PRATHIPADU(10)    GOKAVARAM(04)   \n",
       "2  ANDHRA PRADESH  EAST GODAVARI(04)  PRATHIPADU(10)  GAJJANAPUDI(06)   \n",
       "3  ANDHRA PRADESH  EAST GODAVARI(04)  PRATHIPADU(10)  GAJJANAPUDI(06)   \n",
       "4  ANDHRA PRADESH  EAST GODAVARI(04)  PRATHIPADU(10)   CHINTALURU(10)   \n",
       "\n",
       "           village_name                   habitation_name quality_parameter  \\\n",
       "0        VANTHADA(014 )        VANTHADA(0404410014010400)          Salinity   \n",
       "1  PANDAVULAPALEM(022 )  PANDAVULAPALEM(0404410022010400)          Fluoride   \n",
       "2      G. KOTHURU(023 )      G. KOTHURU(0404410023010600)          Salinity   \n",
       "3     GAJJANAPUDI(029 )     GAJJANAPUDI(0404410029010600)          Salinity   \n",
       "4      CHINTALURU(028 )      CHINTALURU(0404410028011000)          Salinity   \n",
       "\n",
       "       year  \n",
       "0  1/4/2009  \n",
       "1  1/4/2009  \n",
       "2  1/4/2009  \n",
       "3  1/4/2009  \n",
       "4  1/4/2009  "
      ]
     },
     "execution_count": 50,
     "metadata": {},
     "output_type": "execute_result"
    }
   ],
   "source": [
    "#Vamos substituir os espacos e tracos nos nomes das colunas por '_'\n",
    "data.columns = data.columns.str.replace(\" \",\"_\")\n",
    "data.head()"
   ]
  },
  {
   "cell_type": "markdown",
   "metadata": {},
   "source": [
    "Ferro : podem originar-se da dissolução de compostos do solo ou de\n",
    "    \n",
    "despejos industriais; causam coloração avermelhada à água, no caso do ferro,\n",
    "\n",
    "ou marrom; conferem sabor metálico à água; as águas ferruginosas \n",
    "\n",
    "favorecem o desenvolvimento das ferrobactérias, que causam maus odores e \n",
    "\n",
    "coloração à água e obstruem as canalizações."
   ]
  },
  {
   "cell_type": "markdown",
   "metadata": {},
   "source": [
    "Fluoretos: os fluoretos têm ação benéfica de prevenção da cárie dentária; \n",
    "    \n",
    "em concentrações mais elevadas, podem provocar alterações da estrutura óssea \n",
    "\n",
    "ou a fluorose dentária (manchas escuras nos dentes).\n"
   ]
  },
  {
   "cell_type": "markdown",
   "metadata": {},
   "source": [
    "A Salinidade a \"água doce\" pode ter uma salinidade entre 0 e 0,5 g/kg. \n",
    "\n",
    "No entanto, esta salinidade pode ser devida a compostos químicos muito \n",
    "\n",
    "diferentes daqueles encontrados na água do mar.\n",
    "\n",
    "Sódio, potássio, cálcio, magnésio, cloro, sulfato e bicarbonato são os maiores \n",
    "\n",
    "contribuintes para a salinidade da água na superfície da Terra"
   ]
  },
  {
   "cell_type": "markdown",
   "metadata": {},
   "source": [
    " Arsênio e alguns componentes inorgânicos da água, entre eles os metais pesados, são \n",
    "\n",
    "tóxicos ao homem: arsênio, "
   ]
  },
  {
   "cell_type": "markdown",
   "metadata": {},
   "source": [
    " o nitrato, na água, pode causar a meta-hemoglobinemia; (Meta-hemoglobinemia, \n",
    "                                                         \n",
    "também conhecida por \"meta-Hb\", é uma desordem caracterizada pela presença de \n",
    "                                                         \n",
    "um nível mais alto do que o normal de meta-hemoglobina no sangue. Quando sua \n",
    "\n",
    "concentração é elevada nas hemácias pode ocorrer uma anemia funcional e \n",
    "                                                         \n",
    "hipoxia em tecido.)"
   ]
  },
  {
   "cell_type": "code",
   "execution_count": 51,
   "metadata": {},
   "outputs": [
    {
     "data": {
      "text/plain": [
       "Iron        302244\n",
       "Salinity    108923\n",
       "Fluoride    101041\n",
       "Arsenic      25705\n",
       "Nitrate      12329\n",
       "Name: quality_parameter, dtype: int64"
      ]
     },
     "execution_count": 51,
     "metadata": {},
     "output_type": "execute_result"
    }
   ],
   "source": [
    "data['quality_parameter'].value_counts()"
   ]
  },
  {
   "cell_type": "code",
   "execution_count": 52,
   "metadata": {},
   "outputs": [
    {
     "data": {
      "image/png": "[encoded data removed]",
      "text/plain": [
       "<Figure size 504x288 with 1 Axes>"
      ]
     },
     "metadata": {},
     "output_type": "display_data"
    }
   ],
   "source": [
    "plt.figure(figsize=(7,4))\n",
    "sns.countplot('quality_parameter',data=data)\n",
    "plt.xticks(rotation=75)\n",
    "plt.show()"
   ]
  },
  {
   "cell_type": "code",
   "execution_count": 53,
   "metadata": {},
   "outputs": [
    {
     "data": {
      "image/png": "[encoded data removed]",
      "text/plain": [
       "<Figure size 1080x1080 with 1 Axes>"
      ]
     },
     "metadata": {},
     "output_type": "display_data"
    }
   ],
   "source": [
    "plt.figure(figsize=(15,15))\n",
    "sns.countplot(y='state_name',data=data, hue='quality_parameter')\n",
    "plt.yticks(rotation=45)\n",
    "plt.show()"
   ]
  },
  {
   "cell_type": "code",
   "execution_count": 54,
   "metadata": {},
   "outputs": [
    {
     "data": {
      "text/plain": [
       "state_name                               ANDHRA PRADESH\n",
       "district_name                         EAST GODAVARI(04)\n",
       "block_name                                   KADIAM(31)\n",
       "panchayat_name                     DHAMIREDDY PALLE(07)\n",
       "village_name                     DHAMIREDDY PALLE(004 )\n",
       "habitation_name      DHAMIREDDY PALLE(0404131004010700)\n",
       "quality_parameter                              Salinity\n",
       "year                                           1/4/2009\n",
       "Name: 10, dtype: object"
      ]
     },
     "execution_count": 54,
     "metadata": {},
     "output_type": "execute_result"
    }
   ],
   "source": [
    "#vamos checar um registro comprleto\n",
    "data.iloc[10]"
   ]
  },
  {
   "cell_type": "code",
   "execution_count": 55,
   "metadata": {},
   "outputs": [
    {
     "data": {
      "text/html": [
       "<div>\n",
       "<style scoped>\n",
       "    .dataframe tbody tr th:only-of-type {\n",
       "        vertical-align: middle;\n",
       "    }\n",
       "\n",
       "    .dataframe tbody tr th {\n",
       "        vertical-align: top;\n",
       "    }\n",
       "\n",
       "    .dataframe thead th {\n",
       "        text-align: right;\n",
       "    }\n",
       "</style>\n",
       "<table border=\"1\" class=\"dataframe\">\n",
       "  <thead>\n",
       "    <tr style=\"text-align: right;\">\n",
       "      <th></th>\n",
       "      <th>state_name</th>\n",
       "      <th>quality_parameter</th>\n",
       "      <th>year</th>\n",
       "    </tr>\n",
       "  </thead>\n",
       "  <tbody>\n",
       "    <tr>\n",
       "      <th>99143</th>\n",
       "      <td>RAJASTHAN</td>\n",
       "      <td>Salinity</td>\n",
       "      <td>1/4/2009</td>\n",
       "    </tr>\n",
       "    <tr>\n",
       "      <th>99144</th>\n",
       "      <td>RAJASTHAN</td>\n",
       "      <td>Salinity</td>\n",
       "      <td>1/4/2009</td>\n",
       "    </tr>\n",
       "    <tr>\n",
       "      <th>99145</th>\n",
       "      <td>RAJASTHAN</td>\n",
       "      <td>Salinity</td>\n",
       "      <td>1/4/2009</td>\n",
       "    </tr>\n",
       "    <tr>\n",
       "      <th>99146</th>\n",
       "      <td>RAJASTHAN</td>\n",
       "      <td>Salinity</td>\n",
       "      <td>1/4/2009</td>\n",
       "    </tr>\n",
       "    <tr>\n",
       "      <th>99147</th>\n",
       "      <td>RAJASTHAN</td>\n",
       "      <td>Salinity</td>\n",
       "      <td>1/4/2009</td>\n",
       "    </tr>\n",
       "  </tbody>\n",
       "</table>\n",
       "</div>"
      ],
      "text/plain": [
       "      state_name quality_parameter      year\n",
       "99143  RAJASTHAN          Salinity  1/4/2009\n",
       "99144  RAJASTHAN          Salinity  1/4/2009\n",
       "99145  RAJASTHAN          Salinity  1/4/2009\n",
       "99146  RAJASTHAN          Salinity  1/4/2009\n",
       "99147  RAJASTHAN          Salinity  1/4/2009"
      ]
     },
     "execution_count": 55,
     "metadata": {},
     "output_type": "execute_result"
    }
   ],
   "source": [
    "state_1 = data[data['state_name'] == 'RAJASTHAN']\n",
    "state_1 = state_1[['state_name','quality_parameter','year']]\n",
    "state_1.head()"
   ]
  },
  {
   "cell_type": "code",
   "execution_count": 56,
   "metadata": {},
   "outputs": [
    {
     "data": {
      "text/plain": [
       "year      quality_parameter\n",
       "1/4/2009  Salinity             24787\n",
       "          Fluoride             11775\n",
       "          Nitrate                927\n",
       "          Iron                   103\n",
       "          Arsenic                 66\n",
       "1/4/2010  Salinity             23168\n",
       "          Fluoride             10788\n",
       "          Nitrate                856\n",
       "          Iron                    60\n",
       "          Arsenic                  8\n",
       "1/4/2011  Salinity             20258\n",
       "          Fluoride             10724\n",
       "          Nitrate               1106\n",
       "          Iron                    54\n",
       "          Arsenic                  8\n",
       "1/4/2012  Salinity             18924\n",
       "          Fluoride              7130\n",
       "          Nitrate                624\n",
       "          Iron                    46\n",
       "          Arsenic                  5\n",
       "Name: quality_parameter, dtype: int64"
      ]
     },
     "execution_count": 56,
     "metadata": {},
     "output_type": "execute_result"
    }
   ],
   "source": [
    "state_1.groupby('year')['quality_parameter'].value_counts()"
   ]
  },
  {
   "cell_type": "code",
   "execution_count": 57,
   "metadata": {},
   "outputs": [
    {
     "data": {
      "text/plain": [
       "<matplotlib.axes._subplots.AxesSubplot at 0x19f69c1c1d0>"
      ]
     },
     "execution_count": 57,
     "metadata": {},
     "output_type": "execute_result"
    },
    {
     "data": {
      "image/png": "[encoded data removed]",
      "text/plain": [
       "<Figure size 1296x576 with 1 Axes>"
      ]
     },
     "metadata": {},
     "output_type": "display_data"
    }
   ],
   "source": [
    "plt.title('Os parametros de Qualidade')\n",
    "plt.xticks(rotation=75)\n",
    "plt.xlabel(\"\")\n",
    "sns.countplot(state_1['quality_parameter'])"
   ]
  },
  {
   "cell_type": "code",
   "execution_count": 58,
   "metadata": {},
   "outputs": [
    {
     "data": {
      "text/html": [
       "<div>\n",
       "<style scoped>\n",
       "    .dataframe tbody tr th:only-of-type {\n",
       "        vertical-align: middle;\n",
       "    }\n",
       "\n",
       "    .dataframe tbody tr th {\n",
       "        vertical-align: top;\n",
       "    }\n",
       "\n",
       "    .dataframe thead th {\n",
       "        text-align: right;\n",
       "    }\n",
       "</style>\n",
       "<table border=\"1\" class=\"dataframe\">\n",
       "  <thead>\n",
       "    <tr style=\"text-align: right;\">\n",
       "      <th></th>\n",
       "      <th>state_name</th>\n",
       "      <th>quality_parameter</th>\n",
       "      <th>year</th>\n",
       "    </tr>\n",
       "  </thead>\n",
       "  <tbody>\n",
       "    <tr>\n",
       "      <th>687</th>\n",
       "      <td>ASSAM</td>\n",
       "      <td>Iron</td>\n",
       "      <td>1/4/2009</td>\n",
       "    </tr>\n",
       "    <tr>\n",
       "      <th>688</th>\n",
       "      <td>ASSAM</td>\n",
       "      <td>Iron</td>\n",
       "      <td>1/4/2009</td>\n",
       "    </tr>\n",
       "    <tr>\n",
       "      <th>689</th>\n",
       "      <td>ASSAM</td>\n",
       "      <td>Iron</td>\n",
       "      <td>1/4/2009</td>\n",
       "    </tr>\n",
       "    <tr>\n",
       "      <th>690</th>\n",
       "      <td>ASSAM</td>\n",
       "      <td>Iron</td>\n",
       "      <td>1/4/2009</td>\n",
       "    </tr>\n",
       "    <tr>\n",
       "      <th>691</th>\n",
       "      <td>ASSAM</td>\n",
       "      <td>Iron</td>\n",
       "      <td>1/4/2009</td>\n",
       "    </tr>\n",
       "  </tbody>\n",
       "</table>\n",
       "</div>"
      ],
      "text/plain": [
       "    state_name quality_parameter      year\n",
       "687      ASSAM              Iron  1/4/2009\n",
       "688      ASSAM              Iron  1/4/2009\n",
       "689      ASSAM              Iron  1/4/2009\n",
       "690      ASSAM              Iron  1/4/2009\n",
       "691      ASSAM              Iron  1/4/2009"
      ]
     },
     "execution_count": 58,
     "metadata": {},
     "output_type": "execute_result"
    }
   ],
   "source": [
    "state_2 = data[data['state_name'] == 'ASSAM']\n",
    "state_2 = state_2[['state_name','quality_parameter','year']]\n",
    "state_2.head()"
   ]
  },
  {
   "cell_type": "code",
   "execution_count": 59,
   "metadata": {},
   "outputs": [
    {
     "data": {
      "text/plain": [
       "year      quality_parameter\n",
       "1/4/2009  Iron                 25262\n",
       "          Arsenic                810\n",
       "          Fluoride               517\n",
       "1/4/2010  Iron                 17692\n",
       "          Arsenic                719\n",
       "          Fluoride               248\n",
       "1/4/2011  Iron                 16402\n",
       "          Arsenic               2089\n",
       "          Fluoride               192\n",
       "1/4/2012  Iron                 14742\n",
       "          Arsenic               1157\n",
       "          Fluoride                80\n",
       "Name: quality_parameter, dtype: int64"
      ]
     },
     "execution_count": 59,
     "metadata": {},
     "output_type": "execute_result"
    }
   ],
   "source": [
    "state_2.groupby('year')['quality_parameter'].value_counts()"
   ]
  },
  {
   "cell_type": "code",
   "execution_count": 60,
   "metadata": {},
   "outputs": [
    {
     "data": {
      "text/plain": [
       "<matplotlib.axes._subplots.AxesSubplot at 0x19f69a0fa90>"
      ]
     },
     "execution_count": 60,
     "metadata": {},
     "output_type": "execute_result"
    },
    {
     "data": {
      "image/png": "[encoded data removed]",
      "text/plain": [
       "<Figure size 1296x576 with 1 Axes>"
      ]
     },
     "metadata": {},
     "output_type": "display_data"
    }
   ],
   "source": [
    "plt.title('Os parametros de Qualidade')\n",
    "plt.xticks(rotation=75)\n",
    "plt.xlabel(\"\")\n",
    "sns.countplot(state_2['quality_parameter'])"
   ]
  },
  {
   "cell_type": "code",
   "execution_count": 61,
   "metadata": {},
   "outputs": [
    {
     "data": {
      "text/html": [
       "<div>\n",
       "<style scoped>\n",
       "    .dataframe tbody tr th:only-of-type {\n",
       "        vertical-align: middle;\n",
       "    }\n",
       "\n",
       "    .dataframe tbody tr th {\n",
       "        vertical-align: top;\n",
       "    }\n",
       "\n",
       "    .dataframe thead th {\n",
       "        text-align: right;\n",
       "    }\n",
       "</style>\n",
       "<table border=\"1\" class=\"dataframe\">\n",
       "  <thead>\n",
       "    <tr style=\"text-align: right;\">\n",
       "      <th></th>\n",
       "      <th>state_name</th>\n",
       "      <th>quality_parameter</th>\n",
       "      <th>year</th>\n",
       "    </tr>\n",
       "  </thead>\n",
       "  <tbody>\n",
       "    <tr>\n",
       "      <th>19598</th>\n",
       "      <td>BIHAR</td>\n",
       "      <td>Fluoride</td>\n",
       "      <td>1/4/2009</td>\n",
       "    </tr>\n",
       "    <tr>\n",
       "      <th>19599</th>\n",
       "      <td>BIHAR</td>\n",
       "      <td>Fluoride</td>\n",
       "      <td>1/4/2009</td>\n",
       "    </tr>\n",
       "    <tr>\n",
       "      <th>19600</th>\n",
       "      <td>BIHAR</td>\n",
       "      <td>Fluoride</td>\n",
       "      <td>1/4/2009</td>\n",
       "    </tr>\n",
       "    <tr>\n",
       "      <th>19601</th>\n",
       "      <td>BIHAR</td>\n",
       "      <td>Fluoride</td>\n",
       "      <td>1/4/2009</td>\n",
       "    </tr>\n",
       "    <tr>\n",
       "      <th>19602</th>\n",
       "      <td>BIHAR</td>\n",
       "      <td>Fluoride</td>\n",
       "      <td>1/4/2009</td>\n",
       "    </tr>\n",
       "  </tbody>\n",
       "</table>\n",
       "</div>"
      ],
      "text/plain": [
       "      state_name quality_parameter      year\n",
       "19598      BIHAR          Fluoride  1/4/2009\n",
       "19599      BIHAR          Fluoride  1/4/2009\n",
       "19600      BIHAR          Fluoride  1/4/2009\n",
       "19601      BIHAR          Fluoride  1/4/2009\n",
       "19602      BIHAR          Fluoride  1/4/2009"
      ]
     },
     "execution_count": 61,
     "metadata": {},
     "output_type": "execute_result"
    }
   ],
   "source": [
    "state_3 = data[data['state_name'] == 'BIHAR']\n",
    "state_3 = state_3[['state_name','quality_parameter','year']]\n",
    "state_3.head()"
   ]
  },
  {
   "cell_type": "code",
   "execution_count": 62,
   "metadata": {},
   "outputs": [
    {
     "data": {
      "text/plain": [
       "year      quality_parameter\n",
       "1/4/2009  Iron                 26442\n",
       "          Fluoride              5957\n",
       "          Arsenic               2510\n",
       "1/4/2010  Iron                 18673\n",
       "          Fluoride              4157\n",
       "          Arsenic               1590\n",
       "1/4/2011  Iron                 13978\n",
       "          Fluoride              3338\n",
       "          Arsenic               1111\n",
       "1/4/2012  Iron                 10877\n",
       "          Fluoride              2698\n",
       "          Arsenic               1004\n",
       "          Nitrate                  1\n",
       "Name: quality_parameter, dtype: int64"
      ]
     },
     "execution_count": 62,
     "metadata": {},
     "output_type": "execute_result"
    }
   ],
   "source": [
    "state_3.groupby('year')['quality_parameter'].value_counts()"
   ]
  },
  {
   "cell_type": "code",
   "execution_count": 63,
   "metadata": {},
   "outputs": [
    {
     "data": {
      "text/plain": [
       "<matplotlib.axes._subplots.AxesSubplot at 0x19f69b61da0>"
      ]
     },
     "execution_count": 63,
     "metadata": {},
     "output_type": "execute_result"
    },
    {
     "data": {
      "image/png": "[encoded data removed]",
      "text/plain": [
       "<Figure size 1296x576 with 1 Axes>"
      ]
     },
     "metadata": {},
     "output_type": "display_data"
    }
   ],
   "source": [
    "plt.title('Os parametros de Qualidade')\n",
    "plt.xticks(rotation=75)\n",
    "plt.xlabel(\"\")\n",
    "sns.countplot(state_3['quality_parameter'])"
   ]
  },
  {
   "cell_type": "code",
   "execution_count": 64,
   "metadata": {},
   "outputs": [
    {
     "data": {
      "text/plain": [
       "year      quality_parameter\n",
       "1/4/2009  Iron                 101872\n",
       "          Fluoride              33363\n",
       "          Salinity              32689\n",
       "          Arsenic                9504\n",
       "          Nitrate                2571\n",
       "1/4/2010  Iron                  80015\n",
       "          Salinity              28706\n",
       "          Fluoride              26180\n",
       "          Arsenic                6548\n",
       "          Nitrate                3133\n",
       "1/4/2011  Iron                  64213\n",
       "          Salinity              24570\n",
       "          Fluoride              23512\n",
       "          Arsenic                5339\n",
       "          Nitrate                3867\n",
       "1/4/2012  Iron                  56144\n",
       "          Salinity              22958\n",
       "          Fluoride              17986\n",
       "          Arsenic                4314\n",
       "          Nitrate                2758\n",
       "Name: quality_parameter, dtype: int64"
      ]
     },
     "execution_count": 64,
     "metadata": {},
     "output_type": "execute_result"
    }
   ],
   "source": [
    "state_4 = data[['panchayat_name','quality_parameter','year']]\n",
    "state_4.groupby('year')['quality_parameter'].value_counts()"
   ]
  },
  {
   "cell_type": "code",
   "execution_count": 65,
   "metadata": {},
   "outputs": [
    {
     "data": {
      "text/plain": [
       "<matplotlib.axes._subplots.AxesSubplot at 0x19f69bad278>"
      ]
     },
     "execution_count": 65,
     "metadata": {},
     "output_type": "execute_result"
    },
    {
     "data": {
      "image/png": "[encoded data removed]",
      "text/plain": [
       "<Figure size 1296x576 with 1 Axes>"
      ]
     },
     "metadata": {},
     "output_type": "display_data"
    }
   ],
   "source": [
    "plt.title('Os parametros de Qualidade')\n",
    "plt.xticks(rotation=75)\n",
    "plt.xlabel(\"\")\n",
    "sns.countplot(state_4['quality_parameter'])"
   ]
  },
  {
   "cell_type": "code",
   "execution_count": 70,
   "metadata": {},
   "outputs": [
    {
     "data": {
      "text/plain": [
       "panchayat_name                quality_parameter\n",
       "1 NO KHATA                    Iron                 22\n",
       "                              Arsenic              11\n",
       "1 SKM                         Salinity             12\n",
       "1/2 NO BARUAJHAR              Iron                 23\n",
       "10 KD                         Salinity              5\n",
       "10 SARKARI                    Salinity             11\n",
       "                              Fluoride              4\n",
       "101 KALARCHAR                 Iron                  5\n",
       "103 NO JOYSAGAR BORTALA       Iron                  1\n",
       "104 NO NARAYANPUR MUKALMUA    Iron                 14\n",
       "109 NO SANEKUCHI              Iron                 40\n",
       "10NO DAKHIN BAHJANI           Arsenic              16\n",
       "                              Iron                  5\n",
       "114.DANAPURA                  Fluoride              3\n",
       "12 GB                         Salinity              8\n",
       "13 SD                         Fluoride              4\n",
       "15-16 KWD                     Fluoride              2\n",
       "16 AS(KUPLI)                  Salinity              4\n",
       "16 NO SUKAFA                  Iron                 41\n",
       "16 PS                         Fluoride              3\n",
       "17 NO ALLIYA                  Iron                 16\n",
       "                              Arsenic              12\n",
       "19 GD                         Salinity              6\n",
       "2 GB                          Fluoride             10\n",
       "2 KSP                         Salinity              2\n",
       "2 NO KHATA                    Arsenic              36\n",
       "                              Iron                 35\n",
       "20 PUB-KHETRI DHARMAPUR       Iron                  5\n",
       "21 NO UTTAR-KHETRI DHARMAPUR  Iron                 12\n",
       "22 AG                         Salinity              1\n",
       "                                                   ..\n",
       "ZANZARVAV                     Nitrate               3\n",
       "ZANZVAPANAI                   Nitrate               1\n",
       "ZAP                           Iron                  1\n",
       "ZAPWADI                       Nitrate               1\n",
       "ZARGAD                        Fluoride              4\n",
       "ZARI                          Fluoride              3\n",
       "ZAROLA                        Fluoride              1\n",
       "ZATALA                        Fluoride              2\n",
       "ZENAL                         Nitrate               3\n",
       "ZENDEANJAN                    Nitrate               1\n",
       "ZER                           Fluoride              1\n",
       "ZHAPDA                        Fluoride              3\n",
       "ZHARIKHIDI                    Iron                  1\n",
       "ZIKZAK                        Iron                  5\n",
       "ZILLANASI                     Salinity              4\n",
       "                              Iron                  1\n",
       "ZINNAM(24)                    Salinity              3\n",
       "ZIRA                          Iron                 24\n",
       "ZIRPURWADI                    Fluoride              1\n",
       "ZIRWE                         Nitrate               1\n",
       "ZODEGAON                      Fluoride              2\n",
       "ZODGA                         Nitrate               2\n",
       "ZOHALPUR                      Salinity              1\n",
       "ZORARI                        Iron                 22\n",
       "ZORAWAR PUR                   Arsenic              18\n",
       "ZULI                          Iron                  1\n",
       "ZULLAR                        Fluoride              2\n",
       "ZUNJARAWAD                    Fluoride              2\n",
       "ZURKHEDA                      Nitrate               2\n",
       "kEVDA                         Iron                  3\n",
       "Name: quality_parameter, Length: 45159, dtype: int64"
      ]
     },
     "execution_count": 70,
     "metadata": {},
     "output_type": "execute_result"
    }
   ],
   "source": [
    "state_4.groupby('panchayat_name')['quality_parameter'].value_counts()"
   ]
  },
  {
   "cell_type": "code",
   "execution_count": 79,
   "metadata": {},
   "outputs": [
    {
     "data": {
      "text/plain": [
       "RATANPUR            760\n",
       "MOHANPUR            659\n",
       "AMGURI              445\n",
       "SAPTIBARI-I         398\n",
       "UTTAR-NAGSANKAR     387\n",
       "RAMPUR              369\n",
       "HARIPUR             327\n",
       "KAMALPUR            327\n",
       "SAT KODARIA         316\n",
       "LEZAI               312\n",
       "MANIKPUR            307\n",
       "BISHANPUR           307\n",
       "GOPALPUR            306\n",
       "CHURAVANDER         298\n",
       "SAPTIBARI-II        277\n",
       "NIRMALI             267\n",
       "MAJRA               264\n",
       "BHAGWANPUR          261\n",
       "SONAPUR             260\n",
       "MADHYA-NAGSANKAR    260\n",
       "JAGANI              251\n",
       "PUB-NAGSANKAR       239\n",
       "RAGHUNATHPUR        234\n",
       "AMARPUR             225\n",
       "LAXMIPUR            221\n",
       "BALIJAN             221\n",
       "BORGURI             221\n",
       "NIGAM               220\n",
       "MED                 214\n",
       "SATAN PATTI         213\n",
       "KAKAPATHER          213\n",
       "DHEMACHI            211\n",
       "KALYANPUR           209\n",
       "DHOLI               205\n",
       "GELABIL             203\n",
       "KOOMSANG            203\n",
       "GANGIALY            198\n",
       "PIPRA               197\n",
       "GARUDHARIA          195\n",
       "MAITHONG            194\n",
       "Name: panchayat_name, dtype: int64"
      ]
     },
     "execution_count": 79,
     "metadata": {},
     "output_type": "execute_result"
    }
   ],
   "source": [
    "ferro = state_4[state_4.quality_parameter=='Iron']\n",
    "ferro['panchayat_name'].value_counts().head(40)"
   ]
  },
  {
   "cell_type": "code",
   "execution_count": 94,
   "metadata": {},
   "outputs": [
    {
     "data": {
      "text/html": [
       "<div>\n",
       "<style scoped>\n",
       "    .dataframe tbody tr th:only-of-type {\n",
       "        vertical-align: middle;\n",
       "    }\n",
       "\n",
       "    .dataframe tbody tr th {\n",
       "        vertical-align: top;\n",
       "    }\n",
       "\n",
       "    .dataframe thead th {\n",
       "        text-align: right;\n",
       "    }\n",
       "</style>\n",
       "<table border=\"1\" class=\"dataframe\">\n",
       "  <thead>\n",
       "    <tr style=\"text-align: right;\">\n",
       "      <th></th>\n",
       "      <th>panchayat_name</th>\n",
       "      <th>quality_parameter</th>\n",
       "      <th>year</th>\n",
       "    </tr>\n",
       "  </thead>\n",
       "  <tbody>\n",
       "    <tr>\n",
       "      <th>1357</th>\n",
       "      <td>RATANPUR</td>\n",
       "      <td>Iron</td>\n",
       "      <td>1/4/2009</td>\n",
       "    </tr>\n",
       "    <tr>\n",
       "      <th>1358</th>\n",
       "      <td>RATANPUR</td>\n",
       "      <td>Iron</td>\n",
       "      <td>1/4/2009</td>\n",
       "    </tr>\n",
       "    <tr>\n",
       "      <th>1359</th>\n",
       "      <td>RATANPUR</td>\n",
       "      <td>Iron</td>\n",
       "      <td>1/4/2009</td>\n",
       "    </tr>\n",
       "    <tr>\n",
       "      <th>1360</th>\n",
       "      <td>RATANPUR</td>\n",
       "      <td>Iron</td>\n",
       "      <td>1/4/2009</td>\n",
       "    </tr>\n",
       "    <tr>\n",
       "      <th>1361</th>\n",
       "      <td>RATANPUR</td>\n",
       "      <td>Iron</td>\n",
       "      <td>1/4/2009</td>\n",
       "    </tr>\n",
       "    <tr>\n",
       "      <th>1362</th>\n",
       "      <td>RATANPUR</td>\n",
       "      <td>Iron</td>\n",
       "      <td>1/4/2009</td>\n",
       "    </tr>\n",
       "    <tr>\n",
       "      <th>1363</th>\n",
       "      <td>RATANPUR</td>\n",
       "      <td>Iron</td>\n",
       "      <td>1/4/2009</td>\n",
       "    </tr>\n",
       "    <tr>\n",
       "      <th>1364</th>\n",
       "      <td>RATANPUR</td>\n",
       "      <td>Iron</td>\n",
       "      <td>1/4/2009</td>\n",
       "    </tr>\n",
       "    <tr>\n",
       "      <th>1365</th>\n",
       "      <td>RATANPUR</td>\n",
       "      <td>Iron</td>\n",
       "      <td>1/4/2009</td>\n",
       "    </tr>\n",
       "    <tr>\n",
       "      <th>1366</th>\n",
       "      <td>RATANPUR</td>\n",
       "      <td>Iron</td>\n",
       "      <td>1/4/2009</td>\n",
       "    </tr>\n",
       "  </tbody>\n",
       "</table>\n",
       "</div>"
      ],
      "text/plain": [
       "     panchayat_name quality_parameter      year\n",
       "1357       RATANPUR              Iron  1/4/2009\n",
       "1358       RATANPUR              Iron  1/4/2009\n",
       "1359       RATANPUR              Iron  1/4/2009\n",
       "1360       RATANPUR              Iron  1/4/2009\n",
       "1361       RATANPUR              Iron  1/4/2009\n",
       "1362       RATANPUR              Iron  1/4/2009\n",
       "1363       RATANPUR              Iron  1/4/2009\n",
       "1364       RATANPUR              Iron  1/4/2009\n",
       "1365       RATANPUR              Iron  1/4/2009\n",
       "1366       RATANPUR              Iron  1/4/2009"
      ]
     },
     "execution_count": 94,
     "metadata": {},
     "output_type": "execute_result"
    }
   ],
   "source": [
    "state_4[state_4['panchayat_name']=='RATANPUR'].head(10)"
   ]
  },
  {
   "cell_type": "code",
   "execution_count": 90,
   "metadata": {},
   "outputs": [
    {
     "data": {
      "text/plain": [
       "BALESAR SATTAN        439\n",
       "HEERA KI DHANI        431\n",
       "BHALOO RAJWA          414\n",
       "DEWATOO               413\n",
       "BALESAR DURGAWATAN    375\n",
       "HOODU                 370\n",
       "BORCHARNAN            360\n",
       "BHADKHA               360\n",
       "BACHHRAU              356\n",
       "KETU KALLAN           345\n",
       "BELWA                 336\n",
       "DHARASAR              336\n",
       "TENA                  335\n",
       "KURLA                 332\n",
       "ISROL                 332\n",
       "BISARNIYA             330\n",
       "BHANDU JATI           327\n",
       "GOPALSAR              326\n",
       "KHADEEN               324\n",
       "LEELSAR               316\n",
       "SARLI                 316\n",
       "NOSAR                 315\n",
       "KETU MADA             312\n",
       "KHIRJA KHAS           311\n",
       "KANODIYA PUROHITAN    308\n",
       "SOLANKIYA TALA        303\n",
       "KHUDASA               297\n",
       "PEEPARALI             296\n",
       "SAI                   292\n",
       "CHAMU                 290\n",
       "BHALOO ANOOPGARH      287\n",
       "DERIYA                280\n",
       "SABARSAR              278\n",
       "SANKARA               277\n",
       "DERA                  277\n",
       "HATHITALA             274\n",
       "SHERGARH              273\n",
       "MADPURA BARWALA       272\n",
       "SOINTARA              267\n",
       "BASTAWA               263\n",
       "Name: panchayat_name, dtype: int64"
      ]
     },
     "execution_count": 90,
     "metadata": {},
     "output_type": "execute_result"
    }
   ],
   "source": [
    "sal = state_4[state_4.quality_parameter=='Salinity']\n",
    "sal['panchayat_name'].value_counts().head(40)"
   ]
  },
  {
   "cell_type": "code",
   "execution_count": 93,
   "metadata": {},
   "outputs": [
    {
     "data": {
      "text/html": [
       "<div>\n",
       "<style scoped>\n",
       "    .dataframe tbody tr th:only-of-type {\n",
       "        vertical-align: middle;\n",
       "    }\n",
       "\n",
       "    .dataframe tbody tr th {\n",
       "        vertical-align: top;\n",
       "    }\n",
       "\n",
       "    .dataframe thead th {\n",
       "        text-align: right;\n",
       "    }\n",
       "</style>\n",
       "<table border=\"1\" class=\"dataframe\">\n",
       "  <thead>\n",
       "    <tr style=\"text-align: right;\">\n",
       "      <th></th>\n",
       "      <th>panchayat_name</th>\n",
       "      <th>quality_parameter</th>\n",
       "      <th>year</th>\n",
       "    </tr>\n",
       "  </thead>\n",
       "  <tbody>\n",
       "    <tr>\n",
       "      <th>114568</th>\n",
       "      <td>BALESAR SATTAN</td>\n",
       "      <td>Salinity</td>\n",
       "      <td>1/4/2009</td>\n",
       "    </tr>\n",
       "    <tr>\n",
       "      <th>114569</th>\n",
       "      <td>BALESAR SATTAN</td>\n",
       "      <td>Salinity</td>\n",
       "      <td>1/4/2009</td>\n",
       "    </tr>\n",
       "    <tr>\n",
       "      <th>114570</th>\n",
       "      <td>BALESAR SATTAN</td>\n",
       "      <td>Salinity</td>\n",
       "      <td>1/4/2009</td>\n",
       "    </tr>\n",
       "    <tr>\n",
       "      <th>114571</th>\n",
       "      <td>BALESAR SATTAN</td>\n",
       "      <td>Salinity</td>\n",
       "      <td>1/4/2009</td>\n",
       "    </tr>\n",
       "    <tr>\n",
       "      <th>114572</th>\n",
       "      <td>BALESAR SATTAN</td>\n",
       "      <td>Salinity</td>\n",
       "      <td>1/4/2009</td>\n",
       "    </tr>\n",
       "    <tr>\n",
       "      <th>114573</th>\n",
       "      <td>BALESAR SATTAN</td>\n",
       "      <td>Salinity</td>\n",
       "      <td>1/4/2009</td>\n",
       "    </tr>\n",
       "    <tr>\n",
       "      <th>114574</th>\n",
       "      <td>BALESAR SATTAN</td>\n",
       "      <td>Salinity</td>\n",
       "      <td>1/4/2009</td>\n",
       "    </tr>\n",
       "    <tr>\n",
       "      <th>114575</th>\n",
       "      <td>BALESAR SATTAN</td>\n",
       "      <td>Salinity</td>\n",
       "      <td>1/4/2009</td>\n",
       "    </tr>\n",
       "    <tr>\n",
       "      <th>114576</th>\n",
       "      <td>BALESAR SATTAN</td>\n",
       "      <td>Salinity</td>\n",
       "      <td>1/4/2009</td>\n",
       "    </tr>\n",
       "    <tr>\n",
       "      <th>114577</th>\n",
       "      <td>BALESAR SATTAN</td>\n",
       "      <td>Salinity</td>\n",
       "      <td>1/4/2009</td>\n",
       "    </tr>\n",
       "  </tbody>\n",
       "</table>\n",
       "</div>"
      ],
      "text/plain": [
       "        panchayat_name quality_parameter      year\n",
       "114568  BALESAR SATTAN          Salinity  1/4/2009\n",
       "114569  BALESAR SATTAN          Salinity  1/4/2009\n",
       "114570  BALESAR SATTAN          Salinity  1/4/2009\n",
       "114571  BALESAR SATTAN          Salinity  1/4/2009\n",
       "114572  BALESAR SATTAN          Salinity  1/4/2009\n",
       "114573  BALESAR SATTAN          Salinity  1/4/2009\n",
       "114574  BALESAR SATTAN          Salinity  1/4/2009\n",
       "114575  BALESAR SATTAN          Salinity  1/4/2009\n",
       "114576  BALESAR SATTAN          Salinity  1/4/2009\n",
       "114577  BALESAR SATTAN          Salinity  1/4/2009"
      ]
     },
     "execution_count": 93,
     "metadata": {},
     "output_type": "execute_result"
    }
   ],
   "source": [
    "state_4[state_4['panchayat_name']=='BALESAR SATTAN'].head(10)"
   ]
  },
  {
   "cell_type": "code",
   "execution_count": 95,
   "metadata": {},
   "outputs": [
    {
     "data": {
      "text/plain": [
       "MATORA               146\n",
       "TERADAKUPPE           63\n",
       "JELU GAGARI           47\n",
       "CHANDRAKH             40\n",
       "HATUNDI               40\n",
       "BAWALWARA             40\n",
       "DEVALA                33\n",
       "BHANDA                33\n",
       "GOTHADA               33\n",
       "MUDIMADUGU            32\n",
       "BAPINI                31\n",
       "PIPLADA               30\n",
       "RAMPUR MEWARA         30\n",
       "DERI                  29\n",
       "HARSAWARA             29\n",
       "KEWARA KHURD          27\n",
       "MUDIGERE              27\n",
       "KOTTAGERE             27\n",
       "SAKLAL                25\n",
       "PALVADA               23\n",
       "KODIGEHALLI           23\n",
       "GUDLI                 23\n",
       "MATHUGAMDA PAL        22\n",
       "HIREHALLI             22\n",
       "BORI                  22\n",
       "MUDUVATHI             21\n",
       "KARCHA                21\n",
       "MUTHAKAPALLI          21\n",
       "SARERA                20\n",
       "PATIA                 20\n",
       "DANTALIYA             20\n",
       "THORADEVANDAHALLI     20\n",
       "RANWASAR              20\n",
       "SINDHU                20\n",
       "HULLEKERE             20\n",
       "GUMKAL                20\n",
       "BALEECHA              19\n",
       "ANAT                  19\n",
       "PITCHAGUDALAHALLI     19\n",
       "PALPADAR              19\n",
       "Name: panchayat_name, dtype: int64"
      ]
     },
     "execution_count": 95,
     "metadata": {},
     "output_type": "execute_result"
    }
   ],
   "source": [
    "nitrate = state_4[state_4.quality_parameter=='Nitrate']\n",
    "nitrate['panchayat_name'].value_counts().head(40)"
   ]
  },
  {
   "cell_type": "code",
   "execution_count": 96,
   "metadata": {},
   "outputs": [
    {
     "data": {
      "text/html": [
       "<div>\n",
       "<style scoped>\n",
       "    .dataframe tbody tr th:only-of-type {\n",
       "        vertical-align: middle;\n",
       "    }\n",
       "\n",
       "    .dataframe tbody tr th {\n",
       "        vertical-align: top;\n",
       "    }\n",
       "\n",
       "    .dataframe thead th {\n",
       "        text-align: right;\n",
       "    }\n",
       "</style>\n",
       "<table border=\"1\" class=\"dataframe\">\n",
       "  <thead>\n",
       "    <tr style=\"text-align: right;\">\n",
       "      <th></th>\n",
       "      <th>panchayat_name</th>\n",
       "      <th>quality_parameter</th>\n",
       "      <th>year</th>\n",
       "    </tr>\n",
       "  </thead>\n",
       "  <tbody>\n",
       "    <tr>\n",
       "      <th>106456</th>\n",
       "      <td>MATORA</td>\n",
       "      <td>Fluoride</td>\n",
       "      <td>1/4/2009</td>\n",
       "    </tr>\n",
       "    <tr>\n",
       "      <th>106457</th>\n",
       "      <td>MATORA</td>\n",
       "      <td>Fluoride</td>\n",
       "      <td>1/4/2009</td>\n",
       "    </tr>\n",
       "    <tr>\n",
       "      <th>106458</th>\n",
       "      <td>MATORA</td>\n",
       "      <td>Fluoride</td>\n",
       "      <td>1/4/2009</td>\n",
       "    </tr>\n",
       "    <tr>\n",
       "      <th>106459</th>\n",
       "      <td>MATORA</td>\n",
       "      <td>Fluoride</td>\n",
       "      <td>1/4/2009</td>\n",
       "    </tr>\n",
       "    <tr>\n",
       "      <th>106460</th>\n",
       "      <td>MATORA</td>\n",
       "      <td>Fluoride</td>\n",
       "      <td>1/4/2009</td>\n",
       "    </tr>\n",
       "    <tr>\n",
       "      <th>106461</th>\n",
       "      <td>MATORA</td>\n",
       "      <td>Fluoride</td>\n",
       "      <td>1/4/2009</td>\n",
       "    </tr>\n",
       "    <tr>\n",
       "      <th>106462</th>\n",
       "      <td>MATORA</td>\n",
       "      <td>Fluoride</td>\n",
       "      <td>1/4/2009</td>\n",
       "    </tr>\n",
       "    <tr>\n",
       "      <th>106463</th>\n",
       "      <td>MATORA</td>\n",
       "      <td>Fluoride</td>\n",
       "      <td>1/4/2009</td>\n",
       "    </tr>\n",
       "    <tr>\n",
       "      <th>106464</th>\n",
       "      <td>MATORA</td>\n",
       "      <td>Fluoride</td>\n",
       "      <td>1/4/2009</td>\n",
       "    </tr>\n",
       "    <tr>\n",
       "      <th>106465</th>\n",
       "      <td>MATORA</td>\n",
       "      <td>Fluoride</td>\n",
       "      <td>1/4/2009</td>\n",
       "    </tr>\n",
       "  </tbody>\n",
       "</table>\n",
       "</div>"
      ],
      "text/plain": [
       "       panchayat_name quality_parameter      year\n",
       "106456         MATORA          Fluoride  1/4/2009\n",
       "106457         MATORA          Fluoride  1/4/2009\n",
       "106458         MATORA          Fluoride  1/4/2009\n",
       "106459         MATORA          Fluoride  1/4/2009\n",
       "106460         MATORA          Fluoride  1/4/2009\n",
       "106461         MATORA          Fluoride  1/4/2009\n",
       "106462         MATORA          Fluoride  1/4/2009\n",
       "106463         MATORA          Fluoride  1/4/2009\n",
       "106464         MATORA          Fluoride  1/4/2009\n",
       "106465         MATORA          Fluoride  1/4/2009"
      ]
     },
     "execution_count": 96,
     "metadata": {},
     "output_type": "execute_result"
    }
   ],
   "source": [
    "state_4[state_4['panchayat_name']=='MATORA'].head(10)"
   ]
  },
  {
   "cell_type": "code",
   "execution_count": 97,
   "metadata": {},
   "outputs": [
    {
     "data": {
      "text/plain": [
       "NIMBO KA GAON       340\n",
       "UTAMBER             314\n",
       "BASMATA             310\n",
       "JAIPUR              293\n",
       "KATIYARI            255\n",
       "GHORMARA            250\n",
       "DAMODRA             227\n",
       "LAKARMA             218\n",
       "EKALKHORI           206\n",
       "MANIA               202\n",
       "RAMPURA             187\n",
       "JAMDAHA             178\n",
       "KALYANPUR           176\n",
       "DEWASI              168\n",
       "CHERAI              166\n",
       "KOLAHASAR           162\n",
       "BHORSAR BHELUA      162\n",
       "RAMSINGH DIH        160\n",
       "KHAIRA              149\n",
       "BHIKAMKORE          148\n",
       "SOUTH KASWASILA     147\n",
       "THOB                146\n",
       "BANAKABAS           145\n",
       "DARWA               143\n",
       "MOHANA              141\n",
       "MADHOPUR            139\n",
       "DEVIKOT             134\n",
       "BARBASNI            134\n",
       "KURI                133\n",
       "SOUTH BARNE         132\n",
       "AJMATPUR            129\n",
       "DHADHANIYA SASAN    129\n",
       "KHABRA KHURD        127\n",
       "TAPU                127\n",
       "JELU GAGARI         124\n",
       "KELAWA KALLA        123\n",
       "NANDIYA KALLA       123\n",
       "SAMRAU              122\n",
       "NEVRA ROAD          121\n",
       "NORTH BARNE         119\n",
       "Name: panchayat_name, dtype: int64"
      ]
     },
     "execution_count": 97,
     "metadata": {},
     "output_type": "execute_result"
    }
   ],
   "source": [
    "fluoride = state_4[state_4.quality_parameter=='Fluoride']\n",
    "fluoride['panchayat_name'].value_counts().head(40)"
   ]
  },
  {
   "cell_type": "code",
   "execution_count": 98,
   "metadata": {},
   "outputs": [
    {
     "data": {
      "text/plain": [
       "SAGUNA                    190\n",
       "PRITHIBA G.P              172\n",
       "BEKAJAN                   163\n",
       "MASLANDAPUR-II G.P        152\n",
       "SRIKRISHNAPUR             144\n",
       "BABAJIA                   142\n",
       "MAHELETA                  127\n",
       "GOBINDAPUR                117\n",
       "MELAMATI                  114\n",
       "RAIPUR                    111\n",
       "MADANPUR                  110\n",
       "KAMARBONDHA               109\n",
       "NAMCHUNGI                 108\n",
       "KACHUKHAT                 106\n",
       "BHURKUNDA                 103\n",
       "KISHANPUR                 100\n",
       "PROSADPUR                 100\n",
       "CHATRA                    100\n",
       "MADHAPUR                   99\n",
       "UTTAR-PACHIM KAKODONGA     98\n",
       "KUMRA G.P                  96\n",
       "CHANDA                     91\n",
       "JANKI DIH                  87\n",
       "HARNATHPUR                 86\n",
       "GAHAUNA                    84\n",
       "LAXMIPUR                   83\n",
       "TANGAJAN                   82\n",
       "DEBAGRAM                   82\n",
       "DOGACHHI                   82\n",
       "GOSAIDAS PUR               81\n",
       "MAHUAR                     80\n",
       "PRITHARIHAKIMPUR G.P       79\n",
       "MORMA                      78\n",
       "GURUDASPUR                 76\n",
       "EKARANI                    76\n",
       "GAYGHAT                    75\n",
       "DOOMA                      75\n",
       "RANU CHAK                  74\n",
       "BAHADURPUR                 74\n",
       "CHARGHAT G.P               73\n",
       "Name: panchayat_name, dtype: int64"
      ]
     },
     "execution_count": 98,
     "metadata": {},
     "output_type": "execute_result"
    }
   ],
   "source": [
    "arsenico = state_4[state_4.quality_parameter=='Arsenic']\n",
    "arsenico['panchayat_name'].value_counts().head(40)"
   ]
  },
  {
   "cell_type": "code",
   "execution_count": null,
   "metadata": {},
   "outputs": [],
   "source": []
  }
 ],
 "metadata": {
  "kernelspec": {
   "display_name": "Python 3",
   "language": "python",
   "name": "python3"
  },
  "language_info": {
   "codemirror_mode": {
    "name": "ipython",
    "version": 3
   },
   "file_extension": ".py",
   "mimetype": "text/x-python",
   "name": "python",
   "nbconvert_exporter": "python",
   "pygments_lexer": "ipython3",
   "version": "3.7.3"
  }
 },
 "nbformat": 4,
 "nbformat_minor": 2
}
